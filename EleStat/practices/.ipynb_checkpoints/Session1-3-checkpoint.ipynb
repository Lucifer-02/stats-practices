{
 "cells": [
  {
   "cell_type": "markdown",
   "id": "000ab90c-592f-4973-962f-b19131b00b2d",
   "metadata": {},
   "source": [
    "# Bài 1\n",
    "Các đối tượng được tác động để quan sát kết quả nên đây là 1 nghiên cứu thí nghiệm"
   ]
  },
  {
   "cell_type": "markdown",
   "id": "2c1a9c7b-be8e-405f-8e74-d7e9e5f0e268",
   "metadata": {},
   "source": [
    "# Bài 6\n",
    "Nghiên cứu này chỉ quan sát đối tượng bằng cách theo dõi và khảo sát các đối tượng => nghiên cứu quan sát"
   ]
  }
 ],
 "metadata": {
  "kernelspec": {
   "display_name": "Python 3 (ipykernel)",
   "language": "python",
   "name": "python3"
  },
  "language_info": {
   "codemirror_mode": {
    "name": "ipython",
    "version": 3
   },
   "file_extension": ".py",
   "mimetype": "text/x-python",
   "name": "python",
   "nbconvert_exporter": "python",
   "pygments_lexer": "ipython3",
   "version": "3.10.6"
  }
 },
 "nbformat": 4,
 "nbformat_minor": 5
}
