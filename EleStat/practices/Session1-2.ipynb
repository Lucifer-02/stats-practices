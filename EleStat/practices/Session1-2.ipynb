{
 "cells": [
  {
   "cell_type": "markdown",
   "id": "5c516c75-49c9-4381-9921-df9e177230ee",
   "metadata": {
    "tags": []
   },
   "source": [
    "# Bài 1\n",
    "- Mẫu: 1001 người trưởng thành\n",
    "- Tổng thể: người dân Mỹ\n",
    "- $69\\%$ là thống kê"
   ]
  },
  {
   "cell_type": "markdown",
   "id": "e1f6d9cf-7251-4c1d-bfd3-8c415ae1de0f",
   "metadata": {
    "tags": []
   },
   "source": [
    "# Bài 2\n",
    "a. Định lượng\n",
    "\n",
    "b. Định tính\n",
    "\n",
    "c. Định tính\n",
    "\n",
    "d. Định lượng"
   ]
  },
  {
   "cell_type": "markdown",
   "id": "6b1fce71-516d-461f-bf22-52bd7dcab056",
   "metadata": {},
   "source": [
    "# Bài 3\n",
    "a. Liên tục\n",
    "\n",
    "b. Rời rạc\n",
    "\n",
    "c. Liên tục\n"
   ]
  },
  {
   "cell_type": "markdown",
   "id": "191dd074-b96d-46fa-a9be-91327b2014b7",
   "metadata": {
    "tags": []
   },
   "source": [
    "# Bài 4\n",
    "a.  \n",
    "- Mẫu: 36k người trưởng thành\n",
    "- Tổng thể: toàn bộ người trưởng thành \n",
    "\n",
    "b. Là thống kê vì nó dựa trên mẫu\n",
    "\n",
    "c. Tỉ lệ\n",
    "\n",
    "d. Rời rạc\n"
   ]
  },
  {
   "cell_type": "markdown",
   "id": "9b3d7133-1b73-41ef-94a3-e22e72bddaf6",
   "metadata": {},
   "source": [
    "# Bài 5\n",
    "Là thống kê vì nó được tính từ 1 mẫu những người được hỏi"
   ]
  },
  {
   "cell_type": "markdown",
   "id": "7f268663-c483-4f52-9402-d09779f1338a",
   "metadata": {},
   "source": [
    "# Bài 6\n",
    "Tham số vì suy ra từ tổng thể toàn bộ lái xe ở Mỹ"
   ]
  },
  {
   "cell_type": "markdown",
   "id": "19d5e6b1-1517-46c0-a50b-989738dd5e16",
   "metadata": {
    "tags": []
   },
   "source": [
    "# Bài 7\n",
    "Tham số vì là số lượng người chết trong toàn bộ hành khách và thuyền viên."
   ]
  },
  {
   "cell_type": "markdown",
   "id": "d0021086-91ab-4610-bbd8-43cabdd0bdbe",
   "metadata": {},
   "source": [
    "# Bài 8\n",
    "Thống kê vì lấy từ mẫu"
   ]
  },
  {
   "cell_type": "markdown",
   "id": "557f30ee-bcc9-4eca-9d16-8a1c0d45df40",
   "metadata": {},
   "source": [
    "# Bài 9\n",
    "Thống kê vì được tính từ mẫu trẻ sơ sinh"
   ]
  },
  {
   "cell_type": "markdown",
   "id": "5128a64c-5b6f-4b5b-a450-c8d19cb2ae9e",
   "metadata": {},
   "source": [
    "# Bài 10\n",
    "Thống kê vì lấy từ mẫu"
   ]
  },
  {
   "cell_type": "markdown",
   "id": "7be0354e-e903-4b3b-96e7-d8466a9329ee",
   "metadata": {},
   "source": [
    "# Bài 11\n",
    "Tham số vì lấy từ tất cả người chơi"
   ]
  },
  {
   "cell_type": "code",
   "execution_count": null,
   "id": "f28ea3d3-8d0b-4aad-8c47-a43101fbb1b5",
   "metadata": {},
   "outputs": [],
   "source": [
    "# Bài 12\n",
    "Tham số vì là toàn bộ số tù nhân trong "
   ]
  }
 ],
 "metadata": {
  "kernelspec": {
   "display_name": "Python 3 (ipykernel)",
   "language": "python",
   "name": "python3"
  },
  "language_info": {
   "codemirror_mode": {
    "name": "ipython",
    "version": 3
   },
   "file_extension": ".py",
   "mimetype": "text/x-python",
   "name": "python",
   "nbconvert_exporter": "python",
   "pygments_lexer": "ipython3",
   "version": "3.11.1"
  }
 },
 "nbformat": 4,
 "nbformat_minor": 5
}
