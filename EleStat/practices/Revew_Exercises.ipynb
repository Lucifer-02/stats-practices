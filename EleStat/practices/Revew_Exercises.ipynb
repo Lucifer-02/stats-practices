{
 "cells": [
  {
   "cell_type": "markdown",
   "id": "415a7cc2-b4f6-40cf-a527-0973055aed42",
   "metadata": {},
   "source": [
    "# Bài 1\n",
    "- Thuật ngữ: khảo sát tự nguyện\n",
    "- Lấy mẫu như vậy rất dễ biased vì những người trả lời thường quan tâm đến vấn đề được hỏi, không đại diện cho tổng thể"
   ]
  },
  {
   "cell_type": "markdown",
   "id": "e69c4ac3-fa98-4999-bfc0-a36534508a1c",
   "metadata": {},
   "source": [
    "# Bài 2\n",
    "a. Tương tự Bài 1, nó không đại diện cho toàn bộ người trưởng thành\n",
    "b. Là một thống kê vì nó là đặc tính của mẫu\n",
    "c. Đây là một quan sát vì không tác động đến các đối tượng"
   ]
  },
  {
   "cell_type": "markdown",
   "id": "e74a5cf5-ce52-46c8-8592-8d48c4cac502",
   "metadata": {},
   "source": [
    "# Bài 3\n",
    "Randomized nghĩa là các tác giả đã chọn các đối tượng ngẫu nhiên và Double-blind nghĩa là các bệnh nhân dùng giả dược không biết tác dụng của cách điều trị cũng như bác sĩ không biết người nào thuộc nhóm nào khi thử nghiệm oxy và giả dược"
   ]
  }
 ],
 "metadata": {
  "kernelspec": {
   "display_name": "Python 3 (ipykernel)",
   "language": "python",
   "name": "python3"
  },
  "language_info": {
   "codemirror_mode": {
    "name": "ipython",
    "version": 3
   },
   "file_extension": ".py",
   "mimetype": "text/x-python",
   "name": "python",
   "nbconvert_exporter": "python",
   "pygments_lexer": "ipython3",
   "version": "3.10.6"
  }
 },
 "nbformat": 4,
 "nbformat_minor": 5
}
