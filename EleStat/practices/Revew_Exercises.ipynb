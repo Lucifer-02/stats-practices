{
 "cells": [
  {
   "cell_type": "markdown",
   "id": "415a7cc2-b4f6-40cf-a527-0973055aed42",
   "metadata": {},
   "source": [
    "# Bài 1\n",
    "- Thuật ngữ: khảo sát tự nguyện\n",
    "- Lấy mẫu như vậy rất dễ biased vì những người trả lời thường quan tâm đến vấn đề được hỏi, không đại diện cho tổng thể"
   ]
  },
  {
   "cell_type": "markdown",
   "id": "e69c4ac3-fa98-4999-bfc0-a36534508a1c",
   "metadata": {},
   "source": [
    "# Bài 2\n",
    "a. Tương tự Bài 1, nó không đại diện cho toàn bộ người trưởng thành\n",
    "b. Là một thống kê vì nó là đặc tính của mẫu\n",
    "c. Đây là một quan sát vì không tác động đến các đối tượng"
   ]
  },
  {
   "cell_type": "markdown",
   "id": "e74a5cf5-ce52-46c8-8592-8d48c4cac502",
   "metadata": {},
   "source": [
    "# Bài 3\n",
    "Randomized nghĩa là các tác giả đã chọn các đối tượng ngẫu nhiên và Double-blind nghĩa là các bệnh nhân dùng giả dược không biết tác dụng của cách điều trị cũng như bác sĩ không biết người nào thuộc nhóm nào khi thử nghiệm oxy và giả dược"
   ]
  },
  {
   "cell_type": "markdown",
   "id": "a62938d6-5e9c-4343-8393-39454d9f48b9",
   "metadata": {},
   "source": [
    "# Bài 4\n",
    "Không vì theo lý thuyết đề cập trong sách, sự tương quan không có quan hệ nhân quả"
   ]
  },
  {
   "cell_type": "markdown",
   "id": "f2029851-d326-46c2-8b06-ab3a651b0b22",
   "metadata": {},
   "source": [
    "# Bài 5\n",
    "a. Syntematic Sample vì lấy mẫu thuốc thứ 500 rồi kiểm tra\n",
    "\n",
    "b. Stratified Sample vì phân nhóm nam nữ rồi lấy mẫu ngẫu nhiên\n",
    "\n",
    "c. Simple Random Sample vì lấy ngẫu nhiên, các mẫu này là tương đương nhau nếu lấy nhiều lần\n",
    "\n",
    "d. Convenience Sample vì lấy mẫu theo cách dễ dàng\n",
    "\n",
    "e. Cluster Sample "
   ]
  },
  {
   "cell_type": "markdown",
   "id": "6157f802-856d-4fa8-b1d7-d7f53f965ce2",
   "metadata": {},
   "source": [
    "# Bài 6\n",
    "Có vì một 1 câu hỏi chung chung và hầu hết mọi người sẽ ủng hộ, câu hỏi 2 cụ thể hơn nên khả năng cao sẽ có kết quả chính xác hơn câu hỏi 1"
   ]
  },
  {
   "cell_type": "markdown",
   "id": "0eef43c1-b046-4887-95aa-c30475982f49",
   "metadata": {
    "tags": []
   },
   "source": [
    "# Bài 7\n",
    "a. Rời rạc\n",
    "\n",
    "b. Ratio vì có thể sắp xếp, chênh lệch cư dân có thể so sánh được\n",
    "\n",
    "c. Người được hỏi là tự nguyện nên có thể không đại diện cho người dân\n",
    "\n",
    "d. Stratified vì chia thành các nhóm công nhân làm việc full-time rồi lấy mẫu\n",
    "e. Cluster vì lấy ngẫu nhiên 2 cụm là 2 bang rồi chọn tất cả người dân trong bang"
   ]
  }
 ],
 "metadata": {
  "kernelspec": {
   "display_name": "Python 3 (ipykernel)",
   "language": "python",
   "name": "python3"
  },
  "language_info": {
   "codemirror_mode": {
    "name": "ipython",
    "version": 3
   },
   "file_extension": ".py",
   "mimetype": "text/x-python",
   "name": "python",
   "nbconvert_exporter": "python",
   "pygments_lexer": "ipython3",
   "version": "3.10.6"
  }
 },
 "nbformat": 4,
 "nbformat_minor": 5
}
