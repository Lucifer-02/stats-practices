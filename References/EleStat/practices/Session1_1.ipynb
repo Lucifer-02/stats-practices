{
 "cells": [
  {
   "cell_type": "markdown",
   "id": "6dc0b816-9e0f-4ba9-a986-93d197d82edf",
   "metadata": {
    "tags": []
   },
   "source": [
    "# Bài 1\n",
    "- Thuật ngữ là cuộc khảo sát thiên vị(biased) \n",
    "- Những người trả lời thường sẽ quan tâm đến vấn đề này do đó không thể đại diện cho toàn bộ người dân. Mấu chốt là phương pháp này để người được hỏi tự quyết định có trả lời hay không."
   ]
  },
  {
   "cell_type": "markdown",
   "id": "44741699-5478-4b9f-9422-511a2e69425e",
   "metadata": {
    "jp-MarkdownHeadingCollapsed": true,
    "tags": []
   },
   "source": [
    "# Bài 2\n",
    "## a.\n",
    "- Sample: 1046 người trưởng thành\n",
    "- Population: Toàn bộ người dân\n",
    "## b. \n",
    "Vì khả năng cao những người được hỏi sẽ không thành thật."
   ]
  },
  {
   "cell_type": "markdown",
   "id": "c50877f1-053f-49e5-99ad-7cd498e2dd01",
   "metadata": {
    "tags": []
   },
   "source": [
    "# Bài 3\n",
    "- * Ý nghĩa thống kê là khi một thí nghiệm sử dụng các phương pháp thống kê cho ra kết quả có vẻ không hề ngẫu nhiên(Vd: tung đồng xu 100 lần thấy 80 ngửa)\n",
    "  * Ý nghĩa thực tế là một kết quả có giá trị thực tiễn(Vd: Khảo sát 100 người đọc sách thống kê này cho thấy điểm số trung bình tăng 3đ, điểm số này là xứng đáng bỏ công sức đọc cuốn sách hay có ý nghĩa thực tế)\n",
    "- Hoàn toàn có thể, xem Example-3"
   ]
  },
  {
   "cell_type": "markdown",
   "id": "2a394e95-59fa-41b7-829e-fa7c37625eb7",
   "metadata": {},
   "source": [
    "# Bài 4\n",
    "Điều này không đúng vì kết quả này không nhân quả, sự tương quan giữa lượng bơ thực vật tiêu thụ với tỉ lệ ly hôn không dẫn đến điều như đề bài đưa ra."
   ]
  },
  {
   "cell_type": "markdown",
   "id": "326f36ad-ac5c-4e79-9a2f-453a40574520",
   "metadata": {},
   "source": [
    "# Bài 5\n",
    "Khảo sát này có khả năng thiên vị vì lấy mẫu trong số những người sử dụng dịch vụ ô tô cá nhân, không thể đại diện cho toàn bộ dân số."
   ]
  },
  {
   "cell_type": "markdown",
   "id": "0105b3aa-3ec0-4124-a59f-24998c04b115",
   "metadata": {
    "tags": []
   },
   "source": [
    "# Bài 6\n",
    "Nghiên cứu có khả năng thiên vị vì 71% những người tham gia có vấn đề về sức khỏe và các nhóm tuổi là không đều"
   ]
  },
  {
   "cell_type": "code",
   "execution_count": 35,
   "id": "0862645c-c273-4efb-8c4d-c3f1df5eb3c3",
   "metadata": {
    "tags": []
   },
   "outputs": [
    {
     "name": "stdout",
     "output_type": "stream",
     "text": [
      "Tỉ lệ người có BMI không tốt:  0.71\n",
      "Tỉ lệ độ tuổi >50: 0.44333333333333336\n",
      "Tỉ lệ độ tuổi 21-50: 0.48333333333333334\n",
      "Tỉ lệ độ tuổi <20: 0.07333333333333333\n"
     ]
    }
   ],
   "source": [
    "import pandas as pd\n",
    "\n",
    "df = pd.read_excel('../DataSet/ES14 Excel Data Sets/01 - Body Data.xlsx')\n",
    "print(\"Tỉ lệ người có BMI không tốt: \",len(df.query('BMI < 18.5 or BMI > 24.9'))/len(df))\n",
    "print(\"Tỉ lệ độ tuổi >50:\",len(df.query('AGE > 50'))/len(df))\n",
    "print(\"Tỉ lệ độ tuổi 21-50:\",len(df.query('AGE <= 50 and AGE > 20'))/len(df))\n",
    "print(\"Tỉ lệ độ tuổi <20:\",len(df.query('AGE <= 20'))/len(df))"
   ]
  },
  {
   "cell_type": "markdown",
   "id": "f110f0cb-0354-4391-9580-7e52584a588a",
   "metadata": {
    "tags": []
   },
   "source": [
    "# Bài 7\n",
    "Không phát hiện thiên vị.\n",
    "\n",
    "**NOTE:** Bài này không chắc tìm đúng dataset, sử dụng dataset-12"
   ]
  },
  {
   "cell_type": "markdown",
   "id": "a39a2195-3e8b-41db-b0b9-f7323fbb8bcc",
   "metadata": {},
   "source": [
    "# Bài 8\n",
    "Nhìn nhà tài trợ là biết rồi, bịp vl :v"
   ]
  },
  {
   "cell_type": "markdown",
   "id": "d5dc758f-0ef8-41e9-b723-a82038ae85c2",
   "metadata": {},
   "source": [
    "# Bài 9\n",
    "Phương pháp lấy mẫu này các đối tượng tình nguyện trả lời dẫn đến khả năng thiên vị -> Flawed"
   ]
  },
  {
   "cell_type": "markdown",
   "id": "99a9a863-31d6-4f85-84b9-af8f427fe674",
   "metadata": {},
   "source": [
    "# Bài 10\n",
    "Nghiên cứu này thưởng cho các đối tượng nên có thể sẽ bù đắp được sự thiên vị -> Sound"
   ]
  },
  {
   "cell_type": "markdown",
   "id": "76b6cfd2-9942-4e45-8958-6b7c76bbc098",
   "metadata": {},
   "source": [
    "# Bài 11\n",
    "Tưởng giống `Bài 9` nhưng thực ra ở đây là khảo sát trực tiếp và ngẫu nhiên nên đối tượng chắc chắn trả lời -> Sound (Ngoài ra ở đây khảo sát adults cũng không ảnh hưởng nhiều vì chủ yếu đây là những người sử dụng mật khẩu)"
   ]
  },
  {
   "cell_type": "markdown",
   "id": "148664a7-363e-478b-b63b-852b33a93f3a",
   "metadata": {},
   "source": [
    "# Bài 12\n",
    "Vì trẻ em cũng sử dụng truyền thông rất nhiều -> Flawed"
   ]
  },
  {
   "cell_type": "markdown",
   "id": "2dbf0d32-26ed-4eb3-88ec-f1fce8550994",
   "metadata": {},
   "source": [
    "# Bài 13\n",
    "Nghiên cứu có ý nghĩa thống kê(vì khả năng thất bại là 3/1000, rất không bình thường) nhưng không có ý nghĩa thực tế vì giảm 3.3 lb trong 12 tháng là không xững đáng bỏ công sức. "
   ]
  },
  {
   "cell_type": "markdown",
   "id": "5cf97ab3-f537-4c58-8117-3cf77aa41d61",
   "metadata": {},
   "source": [
    "# Bài 14\n",
    "Sự khác biệt giữa 2 tỉ lệ trên có ý nghĩa thống kê vì nếu không thì tỉ lệ chỉ là 1/1000 và nó có ý nghĩa thực tế hay không phụ thuộc vào sự khác biệt là bao nhiêu, nếu đủ lớn thì sẽ có ý nghĩa thực tế."
   ]
  },
  {
   "cell_type": "markdown",
   "id": "34bb8a0a-6269-43f1-8760-c21c84b26979",
   "metadata": {},
   "source": [
    "# Bài 15\n",
    "Sự khác biệt không có ý nghĩa thống kê vì 25% và 26% với tổng cộng 580 hạt đậu chỉ chênh nhau 7 hạt.\n",
    "\n",
    "**NOTE:** Có vẻ ở đây tác giả đang hỏi sự khác biệt giữa 2 tỉ lệ này có ý nghĩa thống kê hay không chứ không hỏi 25% theo Mendel có ý nghĩa thống kê hay không."
   ]
  },
  {
   "cell_type": "markdown",
   "id": "9932c69c-8316-4996-a44a-7266b46e3dab",
   "metadata": {},
   "source": [
    "# Bài 16\n",
    "Kết trên không có ý nghĩa thống kê vì 25% khả năng là rất cả, có thể kết quả chỉ là ngẫu nhiên. Không có ý nghĩa thực tế vì tăng được 3 điểm IQ không đúng nhưng quảng cáo."
   ]
  },
  {
   "cell_type": "markdown",
   "id": "76bb84de-b630-463c-b792-2fa7de1c6ca7",
   "metadata": {},
   "source": [
    "# Bài 17\n",
    "Có ý nghĩa thống kê vì có tới 40/41 trường hợp ứng viên Đảng dân chủ xếp đầu, rất có thể là cố ý chứ không phải ngẫu nhiên. Điều này có ý nghĩa thực tế vì ứng viên xếp đầu sẽ có lợi thế, sẽ có nhiều cử tri xem được thông tin về ứng viên này(tương tự như Marketing)."
   ]
  },
  {
   "cell_type": "markdown",
   "id": "3fe5ec21-828b-4ac7-b3d3-5d681363148b",
   "metadata": {},
   "source": [
    "# Bài 18\n",
    "Có ý nghĩa thống kê vì chỉ có 0.3% khả năng đạt thắng nếu việc tung đồng xu không gây được lợi thế. Có ý nghĩa thực tế(vì sau đó đã phải đổi luật bù giờ)."
   ]
  },
  {
   "cell_type": "markdown",
   "id": "b546e1b6-9b29-47f2-b3f6-2ecadf6d97e7",
   "metadata": {},
   "source": [
    "# Bài 19\n",
    "Tỉ lệ người gốc Mexico đủ điều kiện tăng tới gấp đôi so với tỉ lệ được chọn, nếu chỉ là ngẫu nhiên lẽ ra tỉ lệ không đổi -> có ý nghĩa thống kê. Có ý nghĩa thực tế vì điều này đáng được quan tâm, khả năng có sắp đặt."
   ]
  },
  {
   "cell_type": "markdown",
   "id": "9af46537-ca87-4c95-9240-f38ac56d6fb2",
   "metadata": {
    "tags": []
   },
   "source": [
    "# Bài 20\n",
    "Có ý nghĩa thống kê vì khả năng xảy ra nếu người đc hỏi trung thực và trí nhớ chính xác là rất thấp, có khả năng nói dối hoặc não cá vàng. Không có ý nghĩa thực tế vì chả ai quan tâm điều này."
   ]
  },
  {
   "cell_type": "markdown",
   "id": "5897bdf2-685b-4d6d-b33c-1bf46afff1f1",
   "metadata": {},
   "source": [
    "# Bài 21\n",
    "Có ý nghĩa vì mỗi cặp được ghi từ cùng đối tượng và chủ đề"
   ]
  },
  {
   "cell_type": "markdown",
   "id": "8e4e9228-b773-427c-9124-727771d84a02",
   "metadata": {},
   "source": [
    "# Bài 22\n",
    "Có thể thiên vị vì những người này làm việc cùng 1 nơi và có công việc giống nhau."
   ]
  },
  {
   "cell_type": "markdown",
   "id": "e913e12e-dffc-4454-a6ab-18e0a48aabf3",
   "metadata": {},
   "source": [
    "# Bài 23\n",
    "1. Phân tích sự tương quan nhiệt độ cơ thể vào 8h và 12h\n",
    "2. Phân tích sự khác biệt của nhiệt độ cơ thể vào 8h và 12h"
   ]
  },
  {
   "cell_type": "markdown",
   "id": "c2d329e7-3538-4930-8ed8-8507871cc588",
   "metadata": {
    "tags": []
   },
   "source": [
    "# Bài 24\n",
    "Có 64% khả năng nhiệt độ cơ thể lúc 8h và 12h là khác nhau"
   ]
  },
  {
   "cell_type": "markdown",
   "id": "3de669c9-1b40-4882-960d-2efc1080803c",
   "metadata": {},
   "source": [
    "# Bài 25\n",
    "Không có ý nghĩa vì đây là 2 hoàn cảnh khác nhau"
   ]
  },
  {
   "cell_type": "markdown",
   "id": "4018283b-1b58-48fd-92d1-799231e0104d",
   "metadata": {},
   "source": [
    "# Bài 26\n",
    "1. Sự biến thiên của số lượng chanh nhập khẩu và tỉ lệ tai nạn\n",
    "2. Tương quan giữa chúng\n"
   ]
  },
  {
   "cell_type": "markdown",
   "id": "95a69071-6839-4214-9d62-8be0699ad344",
   "metadata": {},
   "source": [
    "# Bài 27\n",
    "Không có sự thiên vị ở đây, có vẻ số liệu đều được lấy ngẫu nhiên."
   ]
  },
  {
   "cell_type": "markdown",
   "id": "bae11e8d-e12c-49c3-861f-99b282e5203e",
   "metadata": {},
   "source": [
    "# Bài 28\n",
    "Không vì sự tương quan không có tính nhân quả."
   ]
  },
  {
   "cell_type": "markdown",
   "id": "45a5a54f-91e3-4ded-a2fa-0cee937d609e",
   "metadata": {},
   "source": [
    "# Bài 29\n",
    "Nhà tài trợ là Ủy ban khoai tây, có j đó sai sai"
   ]
  },
  {
   "cell_type": "markdown",
   "id": "8354b0d0-147f-40fe-b637-9b3a0470e720",
   "metadata": {},
   "source": [
    "# Bài 30\n",
    "Những người trả lời sẽ quan tâm đến vấn đề này -> không thể đại diện cho người dân"
   ]
  },
  {
   "cell_type": "markdown",
   "id": "0a4d3b6a-7228-44f6-849f-58445a69fc35",
   "metadata": {},
   "source": [
    "# Bài 31\n",
    "Mối tương quan này không thể kết luận biến này là nguyên nhân của biến kia, hay không có tính nhân quả"
   ]
  },
  {
   "cell_type": "markdown",
   "id": "57e1dcb3-4a9d-4348-9abb-5afbec0b8df9",
   "metadata": {},
   "source": [
    "# Bài 32\n",
    "Nhà tài trợ là hãng thuốc lá nên khả năng không khách quan."
   ]
  },
  {
   "cell_type": "markdown",
   "id": "610298ea-c6dc-4500-9e8c-9409e392ef39",
   "metadata": {},
   "source": [
    "# Bài 33\n",
    "Tương tự bài 31, 2 biến này không thể là nguyên nhân của nhau, số cướp biển không thể là nguyên nhân của số đt di động"
   ]
  },
  {
   "cell_type": "markdown",
   "id": "943058b8-0b53-47fb-8113-493bea17fbaa",
   "metadata": {},
   "source": [
    "# Bài 34\n",
    "Tương tự bài trên, số con cò không là nguyên nhân tăng lên của dân số, cò cắp em bé :)"
   ]
  },
  {
   "cell_type": "markdown",
   "id": "d86c13c9-1bd1-44d3-87f0-113adbd93f01",
   "metadata": {
    "tags": []
   },
   "source": [
    "# Bài 35\n",
    "Mẫu là những người tự nguyện trả lời, do đó có thể không phản ánh chính xác tổng thể. "
   ]
  },
  {
   "cell_type": "markdown",
   "id": "44847a7d-3051-447a-89a3-c8555da974d7",
   "metadata": {
    "tags": []
   },
   "source": [
    "# Bài 36\n",
    "Đối tượng ở đây là chuyên gia dinh dưỡng, không thể đại diện cho tổng thể."
   ]
  },
  {
   "cell_type": "markdown",
   "id": "e009a564-223b-4848-a8c3-ac135816a15e",
   "metadata": {},
   "source": [
    "# Bài 37\n",
    "a. $70\\%\\times1000=700$\n",
    "\n",
    "b. $550\\div1000=55\\%$"
   ]
  },
  {
   "cell_type": "markdown",
   "id": "6fa6eb8f-d80a-4c96-bef0-d8c5ca26c278",
   "metadata": {},
   "source": [
    "# Bài 38\n",
    "a. $347\\times73\\%=253.31$ đối tượng được khảo sát\n",
    "\n",
    "b. Không vì kết quả phải là số nguyên.\n",
    "c. Không chắc chắn vì 73% đã được làm tròn \n",
    "\n",
    "c. $112\\div347=32\\%$"
   ]
  },
  {
   "cell_type": "markdown",
   "id": "112b7f77-f7fb-4232-b0a6-14ceb53bdd02",
   "metadata": {
    "tags": []
   },
   "source": [
    "# Bài 39\n",
    "a. $1165\\times48\\%=559.2$ người trả lời\n",
    "\n",
    "b. Không vì kết quả phải là số nguyên.\n",
    "c. 559\n",
    "\n",
    "d. $93\\div1165=7.98\\%$"
   ]
  },
  {
   "cell_type": "markdown",
   "id": "08fee61d-72de-4abe-a0ce-d3ff2deb4e5d",
   "metadata": {},
   "source": [
    "# Bài 40\n",
    "a. Số người được hỏi $\\times 0.42$\n",
    "\n",
    "b. Nếu đó là 1 số nguyên thì đúng, nếu không thì sai\n",
    "\n",
    "c. Như câu b\n",
    "\n",
    "d. An toàn đường cao tốc là thấp"
   ]
  },
  {
   "cell_type": "markdown",
   "id": "696a7fc3-fb66-4fd9-b4cf-eb84896c5bd9",
   "metadata": {},
   "source": [
    "# Bài 41\n",
    "Chỉ có thể giảm tối đa $100\\%$"
   ]
  },
  {
   "cell_type": "markdown",
   "id": "05a37dc6-88aa-4f1c-bbee-1107bbebeaaf",
   "metadata": {},
   "source": [
    "# Bài 42\n",
    "Nghĩa là họ đã làm mất tất cả hành lý :))"
   ]
  },
  {
   "cell_type": "markdown",
   "id": "151f90b3-ba3f-405c-9532-e89bcde15b94",
   "metadata": {
    "tags": []
   },
   "source": [
    "# Bài 43\n",
    "Không thể giảm quá $100\\%$"
   ]
  },
  {
   "cell_type": "markdown",
   "id": "d116f890-3c35-4d00-a9aa-74b99e8794e4",
   "metadata": {
    "tags": []
   },
   "source": [
    "# Bài 44\n",
    "Tương tự bài trên, khả năng bị trộm xe chỉ có thể giảm tối đa $100\\%$"
   ]
  },
  {
   "cell_type": "markdown",
   "id": "29a37896-4485-47df-8958-658b243ffc3e",
   "metadata": {},
   "source": [
    "# Bài 45\n",
    "Mức tăng của khoa và quản lý không thể cộng lại, 2 nhóm này kết hợp lại thì tỉ lệ tăng vẫn là $4\\%$"
   ]
  },
  {
   "cell_type": "markdown",
   "id": "44e31388-4b4d-4005-bfc6-2e3ac0fd125e",
   "metadata": {},
   "source": [
    "# Bài 46\n",
    "- Số lượng quá ít nên tỉ lệ không có ý nghĩa\n",
    "- Chỉ dựa vào người tình nguyện trả lời không đại diện cho dân số\n",
    "- Câu hỏi chứa 2 vấn đề\n",
    "- Người trả lời có thể nói không đúng ý nghĩ thật của họ"
   ]
  },
  {
   "cell_type": "markdown",
   "id": "c61ea964-9661-400b-8653-c0256dc7e98f",
   "metadata": {
    "tags": []
   },
   "source": [
    "# Bài 47\n",
    "Vì số lượng mối nhóm là 20 nên tỉ lệ thành công là số chuột thành công chia 20 -> các tỉ lệ phải là bội của 5 -> kết quả đã bị chỉnh sửa."
   ]
  },
  {
   "cell_type": "code",
   "execution_count": 12,
   "id": "4cd9bb53-67e7-4b67-bcd2-d111f5c44ad6",
   "metadata": {
    "tags": []
   },
   "outputs": [
    {
     "data": {
      "text/plain": [
       "0.35"
      ]
     },
     "execution_count": 12,
     "metadata": {},
     "output_type": "execute_result"
    }
   ],
   "source": [
    "7/20"
   ]
  }
 ],
 "metadata": {
  "kernelspec": {
   "display_name": "Python 3 (ipykernel)",
   "language": "python",
   "name": "python3"
  },
  "language_info": {
   "codemirror_mode": {
    "name": "ipython",
    "version": 3
   },
   "file_extension": ".py",
   "mimetype": "text/x-python",
   "name": "python",
   "nbconvert_exporter": "python",
   "pygments_lexer": "ipython3",
   "version": "3.11.1"
  }
 },
 "nbformat": 4,
 "nbformat_minor": 5
}
