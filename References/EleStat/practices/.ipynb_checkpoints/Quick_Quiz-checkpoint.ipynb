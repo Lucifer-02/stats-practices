{
 "cells": [
  {
   "cell_type": "markdown",
   "id": "67ae33c8-6fa3-4fcd-8b09-ccde898bd120",
   "metadata": {},
   "source": [
    "# Bài 1\n",
    "Không hợp lý vì các số không đại diện điều gì về các đối tượng"
   ]
  },
  {
   "cell_type": "markdown",
   "id": "91ce5590-897e-43c0-8119-b802e17bb7ce",
   "metadata": {
    "tags": []
   },
   "source": [
    "# Bài 2\n",
    "Norminal vì các số không thể sắp xếp và chênh lệch giữa các giá trị không có ý nghĩa"
   ]
  },
  {
   "cell_type": "markdown",
   "id": "b6f92fbe-62ad-4286-b26a-36ea755260f0",
   "metadata": {},
   "source": [
    "# Bài 3\n",
    "Liên tục vì sử dụng tuổi chính xác ko làm tròn(tương đối thôi)"
   ]
  },
  {
   "cell_type": "markdown",
   "id": "587c1711-eec3-4707-bbfc-f0868ebd483e",
   "metadata": {},
   "source": [
    "# Bài 4\n",
    "Định lượng vì tuổi là 1 đo lường"
   ]
  },
  {
   "cell_type": "markdown",
   "id": "a04d1d0b-2376-4b07-814b-9268c31ba478",
   "metadata": {},
   "source": [
    "# Bài 5\n",
    "Tỉ lệ vì có thể sắp xếp, so sánh và tính toán chênh lệch"
   ]
  },
  {
   "cell_type": "markdown",
   "id": "78b2ac6f-0fdd-46d8-ba3e-d236fb3c00af",
   "metadata": {},
   "source": [
    "# Bài 6\n",
    "Là thống kê vì nó được tính từ 1 mẫu"
   ]
  },
  {
   "cell_type": "markdown",
   "id": "c011cfe7-9f35-408b-820f-f95a69923213",
   "metadata": {},
   "source": [
    "# Bài 7\n",
    "Không phải vì nó phải được lấy từ cân nặng thực tế"
   ]
  },
  {
   "cell_type": "markdown",
   "id": "7d43d3ec-e3ca-4b58-9252-949b164d4eae",
   "metadata": {},
   "source": [
    "# Bài 8\n",
    "Quan sát vì không cần hỏi đổi tượng khảo sát"
   ]
  },
  {
   "cell_type": "markdown",
   "id": "bf3d2b08-1e83-408b-8022-6f201410e616",
   "metadata": {},
   "source": [
    "# Bài 9\n",
    "Các đối tượng không biết họi đang dùng thuốc hay giả dược"
   ]
  },
  {
   "cell_type": "markdown",
   "id": "39531826-253c-47ae-9ed5-69e37a8ac9f8",
   "metadata": {},
   "source": [
    "# Bài 10\n",
    "Mẫu ngẫu nhiên đơn giản vì nó ít bị ảnh hưởng bởi các yếu tố khác"
   ]
  }
 ],
 "metadata": {
  "kernelspec": {
   "display_name": "Python 3 (ipykernel)",
   "language": "python",
   "name": "python3"
  },
  "language_info": {
   "codemirror_mode": {
    "name": "ipython",
    "version": 3
   },
   "file_extension": ".py",
   "mimetype": "text/x-python",
   "name": "python",
   "nbconvert_exporter": "python",
   "pygments_lexer": "ipython3",
   "version": "3.10.6"
  }
 },
 "nbformat": 4,
 "nbformat_minor": 5
}
