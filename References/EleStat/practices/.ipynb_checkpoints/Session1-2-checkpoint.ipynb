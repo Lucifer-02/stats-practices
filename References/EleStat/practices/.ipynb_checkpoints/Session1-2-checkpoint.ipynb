{
 "cells": [
  {
   "cell_type": "markdown",
   "id": "5c516c75-49c9-4381-9921-df9e177230ee",
   "metadata": {
    "tags": []
   },
   "source": [
    "# Bài 1\n",
    "- Mẫu: 1001 người trưởng thành\n",
    "- Tổng thể: người dân Mỹ\n",
    "- $69\\%$ là thống kê"
   ]
  },
  {
   "cell_type": "markdown",
   "id": "e1f6d9cf-7251-4c1d-bfd3-8c415ae1de0f",
   "metadata": {
    "tags": []
   },
   "source": [
    "# Bài 2\n",
    "a. Định lượng\n",
    "\n",
    "b. Định tính\n",
    "\n",
    "c. Định tính\n",
    "\n",
    "d. Định lượng"
   ]
  },
  {
   "cell_type": "markdown",
   "id": "6b1fce71-516d-461f-bf22-52bd7dcab056",
   "metadata": {},
   "source": [
    "# Bài 3\n",
    "a. Liên tục\n",
    "\n",
    "b. Rời rạc\n",
    "\n",
    "c. Liên tục\n"
   ]
  },
  {
   "cell_type": "markdown",
   "id": "191dd074-b96d-46fa-a9be-91327b2014b7",
   "metadata": {
    "tags": []
   },
   "source": [
    "# Bài 4\n",
    "a.  \n",
    "- Mẫu: 36k người trưởng thành\n",
    "- Tổng thể: toàn bộ người trưởng thành \n",
    "\n",
    "b. Là thống kê vì nó dựa trên mẫu\n",
    "\n",
    "c. Tỉ lệ\n",
    "\n",
    "d. Rời rạc\n"
   ]
  },
  {
   "cell_type": "markdown",
   "id": "9b3d7133-1b73-41ef-94a3-e22e72bddaf6",
   "metadata": {},
   "source": [
    "# Bài 5\n",
    "Là thống kê vì nó được tính từ 1 mẫu những người được hỏi"
   ]
  },
  {
   "cell_type": "markdown",
   "id": "7f268663-c483-4f52-9402-d09779f1338a",
   "metadata": {},
   "source": [
    "# Bài 6\n",
    "Tham số vì suy ra từ tổng thể toàn bộ lái xe ở Mỹ"
   ]
  },
  {
   "cell_type": "markdown",
   "id": "19d5e6b1-1517-46c0-a50b-989738dd5e16",
   "metadata": {
    "tags": []
   },
   "source": [
    "# Bài 7\n",
    "Tham số vì là số lượng người chết trong toàn bộ hành khách và thuyền viên."
   ]
  },
  {
   "cell_type": "markdown",
   "id": "d0021086-91ab-4610-bbd8-43cabdd0bdbe",
   "metadata": {},
   "source": [
    "# Bài 8\n",
    "Thống kê vì lấy từ mẫu"
   ]
  },
  {
   "cell_type": "markdown",
   "id": "557f30ee-bcc9-4eca-9d16-8a1c0d45df40",
   "metadata": {},
   "source": [
    "# Bài 9\n",
    "Thống kê vì được tính từ mẫu trẻ sơ sinh"
   ]
  },
  {
   "cell_type": "markdown",
   "id": "5128a64c-5b6f-4b5b-a450-c8d19cb2ae9e",
   "metadata": {},
   "source": [
    "# Bài 10\n",
    "Thống kê vì lấy từ mẫu"
   ]
  },
  {
   "cell_type": "markdown",
   "id": "7be0354e-e903-4b3b-96e7-d8466a9329ee",
   "metadata": {},
   "source": [
    "# Bài 11\n",
    "Tham số vì lấy từ tất cả người chơi"
   ]
  },
  {
   "cell_type": "markdown",
   "id": "f2c86000-252f-4564-a13d-9eb532ffc051",
   "metadata": {},
   "source": [
    "# Bài 12\n",
    "Tham số vì là toàn bộ số tù nhân ở Mỹ"
   ]
  },
  {
   "cell_type": "markdown",
   "id": "9b342bb9-5d35-4765-a3c0-ab846a87969d",
   "metadata": {},
   "source": [
    "# Bài 13\n",
    "Liên tục vì không thế biết tất cả giá trị trong 1 khoảng"
   ]
  },
  {
   "cell_type": "markdown",
   "id": "6de8479f-f4f8-4958-8835-e14fb404ee3a",
   "metadata": {},
   "source": [
    "# Bài 14\n",
    "Rời rạc"
   ]
  },
  {
   "cell_type": "markdown",
   "id": "8b9cf609-f969-4ffb-a130-7d57b00392a3",
   "metadata": {},
   "source": [
    "# Bài 15\n",
    "Rời rạc"
   ]
  },
  {
   "cell_type": "markdown",
   "id": "e57c5e6a-5846-4c11-a803-329f4eff0695",
   "metadata": {},
   "source": [
    "# Bài 16\n",
    "Rời rạc"
   ]
  },
  {
   "cell_type": "markdown",
   "id": "18b7ca8e-26e3-4795-96ce-de92e4a6e1ce",
   "metadata": {},
   "source": [
    "# Bài 17\n",
    "Rời rạc (Kết quả là liên tục nhưng mình nghĩ nếu đơn vị là phút thì hoàn toàn có thể đếm được chứ)"
   ]
  },
  {
   "cell_type": "markdown",
   "id": "978ea212-0e41-400b-b6eb-2157daa183f0",
   "metadata": {},
   "source": [
    "# Bài 18\n",
    "Rời rạc"
   ]
  },
  {
   "cell_type": "markdown",
   "id": "059647ac-eb6e-4e2d-a8e2-35c905837f13",
   "metadata": {},
   "source": [
    "# Bài 19\n",
    "Rời rạc"
   ]
  },
  {
   "cell_type": "markdown",
   "id": "20db2024-faf9-49b1-a77c-c9d2f4c84e2e",
   "metadata": {},
   "source": [
    "# Bài 20\n",
    "Liên tục"
   ]
  },
  {
   "cell_type": "markdown",
   "id": "3b4e120e-9866-4083-8cfd-c162369796a0",
   "metadata": {},
   "source": [
    "**NOTE**: xem TABLE1-2/p19"
   ]
  },
  {
   "cell_type": "markdown",
   "id": "75afb2f8-105a-48fd-a422-d821c2333828",
   "metadata": {},
   "source": [
    "# Bai 21\n",
    "Norminal vi ko the sap xep"
   ]
  },
  {
   "cell_type": "markdown",
   "id": "bebf66fe-93cc-41a7-9a67-6cc2aae51e89",
   "metadata": {},
   "source": [
    "# Bai 22\n",
    "Ordinal vi co the sap xep nhung khac biet ko co y nghia"
   ]
  },
  {
   "cell_type": "markdown",
   "id": "dec5c9c2-9cdb-4f22-b9ad-95f15b9125e8",
   "metadata": {},
   "source": [
    "# Bai 23\n",
    "Ordinal vi giong Bai 22"
   ]
  },
  {
   "cell_type": "markdown",
   "id": "72334f9c-f9e7-483f-90e0-cbaf0f606e57",
   "metadata": {
    "tags": []
   },
   "source": [
    "# Bai 24\n",
    "Ratio vi bat dau tu 0, co the sap xep va ti le co y nghia"
   ]
  },
  {
   "cell_type": "markdown",
   "id": "d071608f-7875-42ed-ae44-32e9f6417775",
   "metadata": {},
   "source": [
    "# Bai 25\n",
    "Interval vi khac biet co y nghia nhung ti le ko co y nghia va ko co gia tri 0"
   ]
  },
  {
   "cell_type": "markdown",
   "id": "90b6d26e-7f55-4d0a-922b-ee12869f3df3",
   "metadata": {},
   "source": [
    "# Bai 26\n",
    "Ordinal"
   ]
  },
  {
   "cell_type": "markdown",
   "id": "1500ba7e-3a61-4b32-8ca9-28d53652eaa5",
   "metadata": {},
   "source": [
    "# Bai 27\n",
    "Ratio vi co the co gia tri 0 va ti le co y nghia"
   ]
  },
  {
   "cell_type": "markdown",
   "id": "ce22ceae-27d6-4972-94ba-48a10e43df41",
   "metadata": {},
   "source": [
    "# Bai 28\n",
    "Interval vi ti le ko co y nghia"
   ]
  },
  {
   "cell_type": "markdown",
   "id": "354b236d-e449-44e7-91f4-7a2bc5b015c5",
   "metadata": {},
   "source": [
    "# Bai 29\n",
    "- Norminal\n",
    "- Viec tinh toan Mean cac gia tri nay ko co y nghia"
   ]
  },
  {
   "cell_type": "markdown",
   "id": "774bb296-8cd0-4e18-a8a5-341af8a42fa7",
   "metadata": {},
   "source": [
    "# Bai 30\n",
    "- Norminal\n",
    "- Giong Bai 29"
   ]
  },
  {
   "cell_type": "markdown",
   "id": "e5f73d16-3cf3-44be-ad3f-eaaed11d8c6d",
   "metadata": {},
   "source": [
    "# Bai 31\n",
    "- Interval\n",
    "- Dap an cho rang gia tri 0, xem EXAMPLE 8"
   ]
  },
  {
   "cell_type": "markdown",
   "id": "a06e0806-5c04-4329-8be7-5d791c637e99",
   "metadata": {
    "tags": []
   },
   "source": [
    "# Bai 32\n",
    "- Ordinal\n",
    "- O day khac biet giua cac gia tri ko co y nghia"
   ]
  },
  {
   "cell_type": "markdown",
   "id": "abdd1b0d-7a56-406c-bd80-0fd720cdf616",
   "metadata": {},
   "source": [
    "# Bai 33\n",
    "a. (3) vi do dai chinh xac ban chan la so vo ti\n",
    "\n",
    "b. (1) vi don vi o day la 0.5 nen dem duoc va co giay la so huu han\n",
    "\n",
    "c. (2) vi dem duoc va huu han\n",
    "\n",
    "d. (1) vi dem duoc va vo han"
   ]
  },
  {
   "cell_type": "code",
   "execution_count": null,
   "id": "a3b9ca40-c192-4363-a3f1-61021fa40606",
   "metadata": {},
   "outputs": [],
   "source": [
    "# Bai 34\n",
    "- Interval vì giá trị 0 độ ko có ý nghĩa và khác biệt giữa các góc có ý nghĩa"
   ]
  }
 ],
 "metadata": {
  "kernelspec": {
   "display_name": "Python 3 (ipykernel)",
   "language": "python",
   "name": "python3"
  },
  "language_info": {
   "codemirror_mode": {
    "name": "ipython",
    "version": 3
   },
   "file_extension": ".py",
   "mimetype": "text/x-python",
   "name": "python",
   "nbconvert_exporter": "python",
   "pygments_lexer": "ipython3",
   "version": "3.10.6"
  }
 },
 "nbformat": 4,
 "nbformat_minor": 5
}
