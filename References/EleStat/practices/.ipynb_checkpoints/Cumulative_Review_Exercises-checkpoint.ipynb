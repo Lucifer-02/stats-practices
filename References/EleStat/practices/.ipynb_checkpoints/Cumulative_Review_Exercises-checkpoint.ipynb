{
 "cells": [
  {
   "cell_type": "markdown",
   "id": "a25efb37-d80d-49c8-856f-497d89ed1dc8",
   "metadata": {},
   "source": [
    "# Bài 1"
   ]
  },
  {
   "cell_type": "code",
   "execution_count": 18,
   "id": "76d7ef58-0cd2-4c64-88e7-694778ffc0ce",
   "metadata": {
    "tags": []
   },
   "outputs": [
    {
     "data": {
      "text/plain": [
       "133.0"
      ]
     },
     "execution_count": 18,
     "metadata": {},
     "output_type": "execute_result"
    }
   ],
   "source": [
    "scores = [135,149,145,129,118,119,115,133,107,188,127,131]\n",
    "sum(scores)/len(scores)"
   ]
  },
  {
   "cell_type": "markdown",
   "id": "2ef56f80-065a-4f2f-aa17-c2a6ec31805a",
   "metadata": {},
   "source": [
    "# Bài 2"
   ]
  },
  {
   "cell_type": "code",
   "execution_count": 19,
   "id": "3ecbcbcb-c6d4-441c-b8bf-4a3aa362ff6d",
   "metadata": {
    "tags": []
   },
   "outputs": [
    {
     "data": {
      "text/plain": [
       "0.000122"
      ]
     },
     "execution_count": 19,
     "metadata": {},
     "output_type": "execute_result"
    }
   ],
   "source": [
    "round(0.5**13,6)"
   ]
  },
  {
   "cell_type": "markdown",
   "id": "5d4b73dc-dcc5-4f94-8734-b7b3a1c2356a",
   "metadata": {
    "tags": []
   },
   "source": [
    "# Bài 3\n",
    "$\\frac{203-176}{6} = 4.5$ => cao"
   ]
  },
  {
   "cell_type": "markdown",
   "id": "07f64570-e724-4188-a57e-98a3737fdd55",
   "metadata": {},
   "source": [
    "# Bài 4"
   ]
  },
  {
   "cell_type": "code",
   "execution_count": 20,
   "id": "9792164a-4116-41ca-9cb6-7ffd03bfed8d",
   "metadata": {
    "tags": []
   },
   "outputs": [
    {
     "data": {
      "text/plain": [
       "-6.64"
      ]
     },
     "execution_count": 20,
     "metadata": {},
     "output_type": "execute_result"
    }
   ],
   "source": [
    "round((98.2-98.6)/(0.62/(106**0.5)),2)"
   ]
  },
  {
   "cell_type": "markdown",
   "id": "99afa6ef-a27f-4d57-b092-4a4fde7e48da",
   "metadata": {},
   "source": [
    "# Bài 5"
   ]
  },
  {
   "cell_type": "code",
   "execution_count": 21,
   "id": "3c38a75e-7117-41e5-8859-d965621c2e13",
   "metadata": {
    "tags": []
   },
   "outputs": [
    {
     "data": {
      "text/plain": [
       "1068"
      ]
     },
     "execution_count": 21,
     "metadata": {},
     "output_type": "execute_result"
    }
   ],
   "source": [
    "round((1.95996**2*0.25)/0.03**2) + 1"
   ]
  },
  {
   "cell_type": "markdown",
   "id": "5d5e9ad8-8c59-4828-86f9-deebc1b624f3",
   "metadata": {},
   "source": [
    "# Bài 6\n",
    "188 và 107"
   ]
  },
  {
   "cell_type": "markdown",
   "id": "afdf43e1-eb56-49da-8335-d3701bd82ea1",
   "metadata": {},
   "source": [
    "# Bài 7"
   ]
  },
  {
   "cell_type": "code",
   "execution_count": 22,
   "id": "28e33b4c-a621-4060-889a-16333991ec4d",
   "metadata": {
    "tags": []
   },
   "outputs": [
    {
     "data": {
      "text/plain": [
       "0.364"
      ]
     },
     "execution_count": 22,
     "metadata": {},
     "output_type": "execute_result"
    }
   ],
   "source": [
    "round((135-133)**2/11,3)"
   ]
  },
  {
   "cell_type": "markdown",
   "id": "1ded7431-bfea-47f5-ae30-bd1c98ae53a6",
   "metadata": {
    "tags": []
   },
   "source": [
    "# Bài 8"
   ]
  },
  {
   "cell_type": "code",
   "execution_count": 23,
   "id": "62c08979-1296-4b78-9955-cb659271d9df",
   "metadata": {
    "tags": []
   },
   "outputs": [
    {
     "data": {
      "text/plain": [
       "0.2"
      ]
     },
     "execution_count": 23,
     "metadata": {},
     "output_type": "execute_result"
    }
   ],
   "source": [
    "from math import sqrt\n",
    "round(sqrt(((98.4-98.6)**2 + (98.6-98.6)**2 + (98.8-98.6)**2)/(3-1)),2)"
   ]
  },
  {
   "cell_type": "markdown",
   "id": "18aab63d-2a90-4f73-b954-ee978cf08aa8",
   "metadata": {},
   "source": [
    "# Bài 9\n",
    "$0.000729$"
   ]
  },
  {
   "cell_type": "markdown",
   "id": "f967272b-5e6a-45b5-9050-0cdc97156f54",
   "metadata": {},
   "source": [
    "# Bài 10\n",
    "$68719476740$"
   ]
  },
  {
   "cell_type": "markdown",
   "id": "b349d4c7-f544-4bf0-a300-3be50882baa3",
   "metadata": {},
   "source": [
    "# Bài 11\n",
    "$377149515600$"
   ]
  },
  {
   "cell_type": "markdown",
   "id": "a05fc065-1664-4f0e-83f5-91435996d1a0",
   "metadata": {
    "tags": []
   },
   "source": [
    "# Bài 12\n",
    "$0.000000004096$"
   ]
  }
 ],
 "metadata": {
  "kernelspec": {
   "display_name": "Python 3 (ipykernel)",
   "language": "python",
   "name": "python3"
  },
  "language_info": {
   "codemirror_mode": {
    "name": "ipython",
    "version": 3
   },
   "file_extension": ".py",
   "mimetype": "text/x-python",
   "name": "python",
   "nbconvert_exporter": "python",
   "pygments_lexer": "ipython3",
   "version": "3.10.6"
  }
 },
 "nbformat": 4,
 "nbformat_minor": 5
}
